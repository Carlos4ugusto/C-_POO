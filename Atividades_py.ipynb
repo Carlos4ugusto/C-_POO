{
  "nbformat": 4,
  "nbformat_minor": 0,
  "metadata": {
    "colab": {
      "provenance": [],
      "toc_visible": true,
      "authorship_tag": "ABX9TyOE1YhMKugPFZhb/BJRcPUn",
      "include_colab_link": true
    },
    "kernelspec": {
      "name": "python3",
      "display_name": "Python 3"
    },
    "language_info": {
      "name": "python"
    }
  },
  "cells": [
    {
      "cell_type": "markdown",
      "metadata": {
        "id": "view-in-github",
        "colab_type": "text"
      },
      "source": [
        "<a href=\"https://colab.research.google.com/github/Carlos4ugusto/C-_POO/blob/main/Atividades_py.ipynb\" target=\"_parent\"><img src=\"https://colab.research.google.com/assets/colab-badge.svg\" alt=\"Open In Colab\"/></a>"
      ]
    },
    {
      "cell_type": "code",
      "execution_count": null,
      "metadata": {
        "colab": {
          "base_uri": "https://localhost:8080/"
        },
        "id": "UNb1-ua-fqtq",
        "outputId": "c194f20b-e21b-4a84-b002-8367b080bcb9"
      },
      "outputs": [
        {
          "output_type": "stream",
          "name": "stdout",
          "text": [
            "O maior número é: 20\n"
          ]
        }
      ],
      "source": [
        "#estratégia 1 para descobrir se um número é ímpar ou par\n",
        "a = 10\n",
        "b  = 20\n",
        "if(a > b) :\n",
        "    maior = a\n",
        "else:\n",
        "    maior = b\n",
        "print(f'O maior número é: {maior}')"
      ]
    },
    {
      "cell_type": "code",
      "source": [
        "#estratégia 2 para descobrir se um número é ímpar ou par\n",
        "a = 10\n",
        "b = 20\n",
        "maior = a\n",
        "if(b>maior):\n",
        "  maior = b\n",
        "print(f'O maior número é: {maior}')"
      ],
      "metadata": {
        "colab": {
          "base_uri": "https://localhost:8080/"
        },
        "id": "T5pJCVX8gwSz",
        "outputId": "76bf9f76-e0b7-4de4-f9cc-886b3e3e03c3"
      },
      "execution_count": null,
      "outputs": [
        {
          "output_type": "stream",
          "name": "stdout",
          "text": [
            "O maior número é: 20\n"
          ]
        }
      ]
    },
    {
      "cell_type": "code",
      "source": [
        "#Implementar uma solução em Python que verifique se um número é par ou ímpar\n",
        "a = int(input(\"Digite um número: \"))\n",
        "if(a%2==0):\n",
        "  print(f'Esse número é par')\n",
        "else:\n",
        "  print(f'Esse número é ímpar')"
      ],
      "metadata": {
        "colab": {
          "base_uri": "https://localhost:8080/"
        },
        "id": "w_U_LOSwhP11",
        "outputId": "e98ae7c7-ff6c-438e-d121-7c329f74a6c6"
      },
      "execution_count": null,
      "outputs": [
        {
          "output_type": "stream",
          "name": "stdout",
          "text": [
            "Digite um número: 10\n",
            "Esse número é par\n"
          ]
        }
      ]
    },
    {
      "cell_type": "code",
      "source": [
        "#Implementar uma solução em Python que resolva a seguinte questão:\n",
        "# Calcular o valor de uma compra, sendo que o preço unitário é 10.\n",
        "# Se for feito uma compra de até 10 unidades, não há desconto.\n",
        "# Para compra entre 11 e 20 unidades é dado um desconto de 10%.\n",
        "# Acima de 20 unidades, o desconto sobre pra 20%.\n",
        "preco_unitario = 10\n",
        "desconto10 = 0.1\n",
        "desconto20 = 0.2\n",
        "qtd = eval(input(\"Digite a quantidade que vai comprar: \"))\n",
        "if(qtd <= 10) :\n",
        "  valor_final = preco_unitario*qtd\n",
        "elif(qtd <= 20):\n",
        "  valor_final = preco_unitario*qtd*(1-desconto10)\n",
        "else:\n",
        "  valor_final = preco_unitario*qtd*(1-desconto20)\n",
        "\n",
        "print(f'O valor final da compra é: {valor_final}')\n"
      ],
      "metadata": {
        "id": "JHrz9MZbnKM9",
        "colab": {
          "base_uri": "https://localhost:8080/"
        },
        "outputId": "bf1b5ed4-52a7-48c2-94cc-9a8f348c211d"
      },
      "execution_count": null,
      "outputs": [
        {
          "output_type": "stream",
          "name": "stdout",
          "text": [
            "Digite a quantidade que vai comprar: 2\n",
            "O valor final da compra é: 20\n"
          ]
        }
      ]
    },
    {
      "cell_type": "code",
      "source": [
        "#Implementar uma solução em python que some todos os números pares de uma lista\n",
        "#estratégia 1\n",
        "lista = [10, 2, 4, 90, 2, 0]\n",
        "n=len(lista) #recebe o tamanho do vetor\n",
        "soma=0\n",
        "for i in range(n): #pega cada posição do vetor\n",
        "  if(lista[i]%2==0):\n",
        "    soma=soma+lista[i]\n",
        "print(f'O somatório dos elementos pares da lista é: {soma}')\n"
      ],
      "metadata": {
        "id": "of0D0x5yqzhe"
      },
      "execution_count": null,
      "outputs": []
    },
    {
      "cell_type": "code",
      "source": [
        "#estratégia 2\n",
        "lista = [10, 2, 4, 90, 2, 0]\n",
        "soma=0\n",
        "for num in lista: #pega cada posição do vetor\n",
        "  if(num%2==0):\n",
        "    soma=soma+num\n",
        "print(f'O somatório dos elementos pares da lista é: {soma}')\n"
      ],
      "metadata": {
        "id": "b-EnjKiZ3Q5w"
      },
      "execution_count": null,
      "outputs": []
    }
  ]
}